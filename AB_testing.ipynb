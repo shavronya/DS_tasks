{
 "cells": [
  {
   "cell_type": "markdown",
   "id": "c8a6af25-08d3-487a-bd90-001772ac9161",
   "metadata": {},
   "source": [
    "## A/B-тестирование"
   ]
  },
  {
   "cell_type": "markdown",
   "id": "d7d45571-6545-4904-a86b-9b3b6b8163d3",
   "metadata": {},
   "source": [
    "АНАЛИЗ ЭФФЕКТИВНОСТИ ДВУХ ВАРИАНТОВ ПОСАДОЧНОЙ СТРАНИЦЫ\n",
    "\n",
    "Представьте, что вы — Data Scientist в туристической фирме. Компания планирует запустить новую акцию, чтобы продать как можно больше туров. Команда разработала два варианта посадочной страницы официального сайта и провела A/B-тестирование. В результате эксперимента были собраны данные — скачайте их по ссылке ниже.\n",
    "\n",
    "Вам предстоит решить настоящую бизнес-задачу: проанализировать эффективность обоих вариантов посадочной страницы сразу по двум критериям — конверсии покупки и ежедневному среднему чеку.\n",
    "\n",
    "Вы должны убедиться, что A/B-тестирование было проведено корректно, проверить факт стабилизации метрик и обоснованно ответить на ключевой вопрос турагентства: какой вариант посадочной страницы более предпочтителен по метрикам конверсии и ежедневного среднего чека?\n",
    "\n",
    "Итак, компания предлагает следующие варианты туров:\n",
    "\n",
    "* Таиланд — 100 000 рублей;\n",
    "* Турция — 60 000 рублей;\n",
    "* Мальдивы — 200 000 рублей;\n",
    "* Санкт-Петербург — 10 000 рублей;\n",
    "* Камчатка — 150 000 рублей."
   ]
  },
  {
   "cell_type": "code",
   "execution_count": 136,
   "id": "a974b482-e192-4014-8520-8a5c0c946da6",
   "metadata": {},
   "outputs": [],
   "source": [
    "import pandas as pd\n",
    "import matplotlib.pyplot as plt\n",
    "import seaborn as sns\n",
    "from scipy.stats import norm\n",
    "from scipy.stats import t\n",
    "from scipy.stats import ttest_ind, shapiro, f_oneway, mannwhitneyu\n",
    "from statsmodels.stats.proportion import proportions_ztest\n",
    "import numpy as np\n",
    "import scipy.stats as stats"
   ]
  },
  {
   "cell_type": "markdown",
   "id": "55c84550-4162-4325-acc2-7d3c0aafe6f0",
   "metadata": {},
   "source": [
    "Прочитаем наши данные и посмотрим на столбцы таблицы:"
   ]
  },
  {
   "cell_type": "code",
   "execution_count": 137,
   "id": "b0d18245-b9da-44bd-8aea-d272ea74b63a",
   "metadata": {},
   "outputs": [
    {
     "data": {
      "text/html": [
       "<div>\n",
       "<style scoped>\n",
       "    .dataframe tbody tr th:only-of-type {\n",
       "        vertical-align: middle;\n",
       "    }\n",
       "\n",
       "    .dataframe tbody tr th {\n",
       "        vertical-align: top;\n",
       "    }\n",
       "\n",
       "    .dataframe thead th {\n",
       "        text-align: right;\n",
       "    }\n",
       "</style>\n",
       "<table border=\"1\" class=\"dataframe\">\n",
       "  <thead>\n",
       "    <tr style=\"text-align: right;\">\n",
       "      <th></th>\n",
       "      <th>user_id</th>\n",
       "      <th>date</th>\n",
       "      <th>group</th>\n",
       "      <th>purchase</th>\n",
       "      <th>price</th>\n",
       "    </tr>\n",
       "  </thead>\n",
       "  <tbody>\n",
       "    <tr>\n",
       "      <th>0</th>\n",
       "      <td>851104</td>\n",
       "      <td>2021-01-21</td>\n",
       "      <td>A</td>\n",
       "      <td>0</td>\n",
       "      <td>0</td>\n",
       "    </tr>\n",
       "    <tr>\n",
       "      <th>1</th>\n",
       "      <td>804228</td>\n",
       "      <td>2021-01-12</td>\n",
       "      <td>A</td>\n",
       "      <td>0</td>\n",
       "      <td>0</td>\n",
       "    </tr>\n",
       "    <tr>\n",
       "      <th>2</th>\n",
       "      <td>661590</td>\n",
       "      <td>2021-01-11</td>\n",
       "      <td>B</td>\n",
       "      <td>0</td>\n",
       "      <td>0</td>\n",
       "    </tr>\n",
       "    <tr>\n",
       "      <th>3</th>\n",
       "      <td>853541</td>\n",
       "      <td>2021-01-08</td>\n",
       "      <td>B</td>\n",
       "      <td>0</td>\n",
       "      <td>0</td>\n",
       "    </tr>\n",
       "    <tr>\n",
       "      <th>4</th>\n",
       "      <td>864975</td>\n",
       "      <td>2021-01-21</td>\n",
       "      <td>A</td>\n",
       "      <td>1</td>\n",
       "      <td>150000</td>\n",
       "    </tr>\n",
       "  </tbody>\n",
       "</table>\n",
       "</div>"
      ],
      "text/plain": [
       "   user_id        date group  purchase   price\n",
       "0   851104  2021-01-21     A         0       0\n",
       "1   804228  2021-01-12     A         0       0\n",
       "2   661590  2021-01-11     B         0       0\n",
       "3   853541  2021-01-08     B         0       0\n",
       "4   864975  2021-01-21     A         1  150000"
      ]
     },
     "execution_count": 137,
     "metadata": {},
     "output_type": "execute_result"
    }
   ],
   "source": [
    "data = pd.read_csv('ab_data_tourist.zip')\n",
    "data.head()"
   ]
  },
  {
   "cell_type": "markdown",
   "id": "aa43662f",
   "metadata": {},
   "source": [
    "Наша таблица представлена следующими полями:\n",
    "\n",
    "* user_id — идентификатор пользователя, зашедшего на сайт;\n",
    "* data — дата посещения сайта;\n",
    "* group — группа теста (контрольная — А или тестовая — B);\n",
    "* purchase — признак покупки: совершил ли пользователь покупку тура (1 — да, 0 — нет);\n",
    "* price — цена купленного тура (если покупка не состоялась, цена равна 0)."
   ]
  },
  {
   "cell_type": "markdown",
   "id": "2fc48225-26ac-49c4-b99d-8b2a03dd74a1",
   "metadata": {
    "tags": []
   },
   "source": [
    "### **Задание 1. Анализ структуры и предобработка данных (1 балл)**\n",
    "\n",
    "1. Исследуйте структуру данных"
   ]
  },
  {
   "cell_type": "code",
   "execution_count": 138,
   "id": "23496521-4878-46e2-ab02-1a98be14884a",
   "metadata": {},
   "outputs": [
    {
     "name": "stdout",
     "output_type": "stream",
     "text": [
      "<class 'pandas.core.frame.DataFrame'>\n",
      "RangeIndex: 294478 entries, 0 to 294477\n",
      "Data columns (total 5 columns):\n",
      " #   Column    Non-Null Count   Dtype \n",
      "---  ------    --------------   ----- \n",
      " 0   user_id   294478 non-null  int64 \n",
      " 1   date      294478 non-null  object\n",
      " 2   group     294478 non-null  object\n",
      " 3   purchase  294478 non-null  int64 \n",
      " 4   price     294478 non-null  int64 \n",
      "dtypes: int64(3), object(2)\n",
      "memory usage: 11.2+ MB\n"
     ]
    }
   ],
   "source": [
    "data.info()"
   ]
  },
  {
   "cell_type": "markdown",
   "id": "946d017d-b4fe-4a17-b91d-0ce369d1ab2e",
   "metadata": {
    "tags": []
   },
   "source": [
    "2. Преобразуйте столбцы к необходимым типам данных"
   ]
  },
  {
   "cell_type": "code",
   "execution_count": 139,
   "id": "604c619d-6338-45c8-8248-ac098a2366bb",
   "metadata": {},
   "outputs": [],
   "source": [
    "data['date'] = pd.to_datetime(data['date'])"
   ]
  },
  {
   "cell_type": "markdown",
   "id": "37d6d2e4",
   "metadata": {},
   "source": [
    "3. Убедитесь в одинаковой длительности проведения A/B-тестирования в каждой из групп. Если длительность разная, унифицируйте данные, удалив лишние данные для соответствующей группы"
   ]
  },
  {
   "cell_type": "code",
   "execution_count": 140,
   "id": "92561185",
   "metadata": {},
   "outputs": [
    {
     "data": {
      "text/html": [
       "<div>\n",
       "<style scoped>\n",
       "    .dataframe tbody tr th:only-of-type {\n",
       "        vertical-align: middle;\n",
       "    }\n",
       "\n",
       "    .dataframe tbody tr th {\n",
       "        vertical-align: top;\n",
       "    }\n",
       "\n",
       "    .dataframe thead th {\n",
       "        text-align: right;\n",
       "    }\n",
       "</style>\n",
       "<table border=\"1\" class=\"dataframe\">\n",
       "  <thead>\n",
       "    <tr style=\"text-align: right;\">\n",
       "      <th></th>\n",
       "      <th>count</th>\n",
       "      <th>mean</th>\n",
       "      <th>min</th>\n",
       "      <th>25%</th>\n",
       "      <th>50%</th>\n",
       "      <th>75%</th>\n",
       "      <th>max</th>\n",
       "    </tr>\n",
       "    <tr>\n",
       "      <th>group</th>\n",
       "      <th></th>\n",
       "      <th></th>\n",
       "      <th></th>\n",
       "      <th></th>\n",
       "      <th></th>\n",
       "      <th></th>\n",
       "      <th></th>\n",
       "    </tr>\n",
       "  </thead>\n",
       "  <tbody>\n",
       "    <tr>\n",
       "      <th>A</th>\n",
       "      <td>147202</td>\n",
       "      <td>2021-01-13 01:55:49.470795520</td>\n",
       "      <td>2021-01-02 00:00:00</td>\n",
       "      <td>2021-01-08 00:00:00</td>\n",
       "      <td>2021-01-13 00:00:00</td>\n",
       "      <td>2021-01-19 00:00:00</td>\n",
       "      <td>2021-01-24 00:00:00</td>\n",
       "    </tr>\n",
       "    <tr>\n",
       "      <th>B</th>\n",
       "      <td>147276</td>\n",
       "      <td>2021-01-13 01:23:47.034955008</td>\n",
       "      <td>2021-01-02 00:00:00</td>\n",
       "      <td>2021-01-08 00:00:00</td>\n",
       "      <td>2021-01-13 00:00:00</td>\n",
       "      <td>2021-01-19 00:00:00</td>\n",
       "      <td>2021-01-24 00:00:00</td>\n",
       "    </tr>\n",
       "  </tbody>\n",
       "</table>\n",
       "</div>"
      ],
      "text/plain": [
       "        count                           mean                  min  \\\n",
       "group                                                               \n",
       "A      147202  2021-01-13 01:55:49.470795520  2021-01-02 00:00:00   \n",
       "B      147276  2021-01-13 01:23:47.034955008  2021-01-02 00:00:00   \n",
       "\n",
       "                       25%                  50%                  75%  \\\n",
       "group                                                                  \n",
       "A      2021-01-08 00:00:00  2021-01-13 00:00:00  2021-01-19 00:00:00   \n",
       "B      2021-01-08 00:00:00  2021-01-13 00:00:00  2021-01-19 00:00:00   \n",
       "\n",
       "                       max  \n",
       "group                       \n",
       "A      2021-01-24 00:00:00  \n",
       "B      2021-01-24 00:00:00  "
      ]
     },
     "execution_count": 140,
     "metadata": {},
     "output_type": "execute_result"
    }
   ],
   "source": [
    "data.groupby('group')['date'].describe()"
   ]
  },
  {
   "cell_type": "markdown",
   "id": "26f0c983",
   "metadata": {},
   "source": [
    "4. Проверьте данные на наличие пропусков и избавьтесь от них, если нужно"
   ]
  },
  {
   "cell_type": "code",
   "execution_count": 141,
   "id": "1dfe43b2",
   "metadata": {},
   "outputs": [
    {
     "data": {
      "text/plain": [
       "user_id     0\n",
       "date        0\n",
       "group       0\n",
       "purchase    0\n",
       "price       0\n",
       "dtype: int64"
      ]
     },
     "execution_count": 141,
     "metadata": {},
     "output_type": "execute_result"
    }
   ],
   "source": [
    "missing_data = data.isnull().sum()\n",
    "missing_data"
   ]
  },
  {
   "cell_type": "markdown",
   "id": "37ba6e81",
   "metadata": {},
   "source": [
    "5. Проверьте, есть ли пользователи, которые в процессе A/B-теста попали в обе группы. Если да, исключите пользователей, оказавшихся в обеих группах"
   ]
  },
  {
   "cell_type": "code",
   "execution_count": 142,
   "id": "1a72e771",
   "metadata": {},
   "outputs": [
    {
     "name": "stdout",
     "output_type": "stream",
     "text": [
      "1895\n"
     ]
    }
   ],
   "source": [
    "mask_A = data[data['group'] == 'A']\n",
    "mask_B = data[data['group'] == 'B']\n",
    "user_intersection = set(mask_A['user_id']) \\\n",
    "    .intersection(set(mask_B['user_id']))\n",
    "print(len(user_intersection))"
   ]
  },
  {
   "cell_type": "code",
   "execution_count": 143,
   "id": "56db4204",
   "metadata": {},
   "outputs": [],
   "source": [
    "updated_data = data[data['user_id'].apply(lambda x: x not in user_intersection)]"
   ]
  },
  {
   "cell_type": "markdown",
   "id": "e04eb341-52ae-48b3-9dc2-0578ca91641a",
   "metadata": {},
   "source": [
    "### **Задание 2. Сделайте первичный анализ результатов A/B-тестирования:**\n",
    "\n",
    "1. Рассчитайте вспомогательные показатели для контрольной и тестовой групп:\n",
    "\n",
    "* количество посещений сайта;\n",
    "* суммарное количество совершённых покупок;\n",
    "* сумма всех покупок.\n",
    "\n",
    "Сделайте промежуточные выводы по построенной таблице. Сопоставимо ли количество посещений обоих вариантов посадочной страницы? Можно ли говорить о сбалансированности выборок?"
   ]
  },
  {
   "cell_type": "code",
   "execution_count": 144,
   "id": "02bf0148-488e-4f34-95bf-37794b2fa98b",
   "metadata": {},
   "outputs": [
    {
     "name": "stdout",
     "output_type": "stream",
     "text": [
      "Количество посещений сайта: group\n",
      "A    145307\n",
      "B    145381\n",
      "Name: user_id, dtype: int64\n",
      "Количество совершенных покупок: group\n",
      "A    17487\n",
      "B    17290\n",
      "Name: purchase, dtype: int64\n",
      "Сумма всех покупок (млн): group\n",
      "A    1417.78\n",
      "B    1533.01\n",
      "Name: price, dtype: float64\n"
     ]
    }
   ],
   "source": [
    "print('Количество посещений сайта:', updated_data.groupby('group')['user_id'].count())\n",
    "print('Количество совершенных покупок:',  updated_data.groupby('group')['purchase'].sum())\n",
    "print('Сумма всех покупок (млн):', (updated_data.groupby('group')['price'].sum() / 1_000_000).round(2))"
   ]
  },
  {
   "cell_type": "markdown",
   "id": "86c52ce2",
   "metadata": {},
   "source": [
    "* Количество посещений сайта между группами A и B практически одинаково, разница составляет всего 74 посещения. Это свидетельствует о том, что выборки по количеству посещений сбалансированы.\n",
    "* Разница в количестве покупок между группами также невелика, всего 197 покупок. Это может свидетельствовать о схожем уровне конверсии в обеих группах, хотя для более точных выводов необходима дополнительная проверка статистической значимости.\n",
    "* Сумма всех покупок выше в группе B, несмотря на меньшее количество покупок. Это может указывать на то, что средний чек (средняя стоимость покупки) в группе B выше, чем в группе A."
   ]
  },
  {
   "cell_type": "markdown",
   "id": "2ddf6b2c-7987-41f3-82b1-8992630ae97b",
   "metadata": {
    "tags": []
   },
   "source": [
    "2. В каждой из групп рассчитайте ключевые показатели:\n",
    "\n",
    "* конверсия;\n",
    "* средний чек.\n",
    "\n",
    "Сделайте первичные выводы о результатах A/B-тестирования на основе показателей конверсии и среднего чека в каждой из групп. По какому(-им) показателю(-ям), на первый взгляд, вариант А эффективнее варианта B и наоборот?"
   ]
  },
  {
   "cell_type": "code",
   "execution_count": 145,
   "id": "10b44252",
   "metadata": {},
   "outputs": [
    {
     "data": {
      "text/html": [
       "<div>\n",
       "<style scoped>\n",
       "    .dataframe tbody tr th:only-of-type {\n",
       "        vertical-align: middle;\n",
       "    }\n",
       "\n",
       "    .dataframe tbody tr th {\n",
       "        vertical-align: top;\n",
       "    }\n",
       "\n",
       "    .dataframe thead th {\n",
       "        text-align: right;\n",
       "    }\n",
       "</style>\n",
       "<table border=\"1\" class=\"dataframe\">\n",
       "  <thead>\n",
       "    <tr style=\"text-align: right;\">\n",
       "      <th></th>\n",
       "      <th>count_visits</th>\n",
       "      <th>count_purchases</th>\n",
       "      <th>sum_price</th>\n",
       "    </tr>\n",
       "    <tr>\n",
       "      <th>group</th>\n",
       "      <th></th>\n",
       "      <th></th>\n",
       "      <th></th>\n",
       "    </tr>\n",
       "  </thead>\n",
       "  <tbody>\n",
       "    <tr>\n",
       "      <th>A</th>\n",
       "      <td>145307</td>\n",
       "      <td>17487</td>\n",
       "      <td>1417780000</td>\n",
       "    </tr>\n",
       "    <tr>\n",
       "      <th>B</th>\n",
       "      <td>145381</td>\n",
       "      <td>17290</td>\n",
       "      <td>1533010000</td>\n",
       "    </tr>\n",
       "  </tbody>\n",
       "</table>\n",
       "</div>"
      ],
      "text/plain": [
       "       count_visits  count_purchases   sum_price\n",
       "group                                           \n",
       "A            145307            17487  1417780000\n",
       "B            145381            17290  1533010000"
      ]
     },
     "metadata": {},
     "output_type": "display_data"
    }
   ],
   "source": [
    "pivot_tab = updated_data.groupby('group') \\\n",
    "    .agg({'user_id': 'count', 'purchase': 'sum', 'price': 'sum'}) \\\n",
    "    .rename(columns={'user_id': 'count_visits', 'purchase': 'count_purchases', \n",
    "             'price': 'sum_price'})\n",
    "display(pivot_tab)"
   ]
  },
  {
   "cell_type": "code",
   "execution_count": 146,
   "id": "417117fb",
   "metadata": {},
   "outputs": [
    {
     "data": {
      "text/html": [
       "<div>\n",
       "<style scoped>\n",
       "    .dataframe tbody tr th:only-of-type {\n",
       "        vertical-align: middle;\n",
       "    }\n",
       "\n",
       "    .dataframe tbody tr th {\n",
       "        vertical-align: top;\n",
       "    }\n",
       "\n",
       "    .dataframe thead th {\n",
       "        text-align: right;\n",
       "    }\n",
       "</style>\n",
       "<table border=\"1\" class=\"dataframe\">\n",
       "  <thead>\n",
       "    <tr style=\"text-align: right;\">\n",
       "      <th></th>\n",
       "      <th>count_visits</th>\n",
       "      <th>count_purchases</th>\n",
       "      <th>sum_price</th>\n",
       "      <th>conversion</th>\n",
       "      <th>mean_bill</th>\n",
       "    </tr>\n",
       "    <tr>\n",
       "      <th>group</th>\n",
       "      <th></th>\n",
       "      <th></th>\n",
       "      <th></th>\n",
       "      <th></th>\n",
       "      <th></th>\n",
       "    </tr>\n",
       "  </thead>\n",
       "  <tbody>\n",
       "    <tr>\n",
       "      <th>A</th>\n",
       "      <td>145307</td>\n",
       "      <td>17487</td>\n",
       "      <td>1417780000</td>\n",
       "      <td>12.03</td>\n",
       "      <td>81076.0</td>\n",
       "    </tr>\n",
       "    <tr>\n",
       "      <th>B</th>\n",
       "      <td>145381</td>\n",
       "      <td>17290</td>\n",
       "      <td>1533010000</td>\n",
       "      <td>11.89</td>\n",
       "      <td>88665.0</td>\n",
       "    </tr>\n",
       "  </tbody>\n",
       "</table>\n",
       "</div>"
      ],
      "text/plain": [
       "       count_visits  count_purchases   sum_price  conversion  mean_bill\n",
       "group                                                                  \n",
       "A            145307            17487  1417780000       12.03    81076.0\n",
       "B            145381            17290  1533010000       11.89    88665.0"
      ]
     },
     "metadata": {},
     "output_type": "display_data"
    }
   ],
   "source": [
    "pivot_tab['conversion'] \\\n",
    "    = (pivot_tab['count_purchases'] / pivot_tab['count_visits'] * 100).round(2)\n",
    "pivot_tab['mean_bill'] \\\n",
    "    = (pivot_tab['sum_price'] / pivot_tab['count_purchases']).round()\n",
    "display(pivot_tab)"
   ]
  },
  {
   "cell_type": "markdown",
   "id": "83f48572",
   "metadata": {},
   "source": [
    "* Вариант A демонстрирует более высокую конверсию, что означает, что данный вариант более эффективен в превращении посетителей в покупателей. Если основной приоритет — увеличение количества покупок, то вариант A может быть предпочтительным.\n",
    "* Вариант B показывает более высокий средний чек, что свидетельствует о том, что пользователи в этой группе тратят больше за покупку. Если основной приоритет — увеличение дохода от каждой покупки, то вариант B может быть предпочтительным."
   ]
  },
  {
   "cell_type": "markdown",
   "id": "afb2ee0a-31d1-45a5-be42-a2bf168b9448",
   "metadata": {
    "tags": []
   },
   "source": [
    "3. Сравните варианты A/B по покупательской способности каждого из туров. Для этого постройте сводную таблицу, которая покажет зависимость количества продаж от группы и цены тура. Визуализируйте полученную сводную таблицу.\n",
    "\n",
    "Сделайте выводы по построенной таблице. По каким турам покупательская способность участников группы А выше, чем покупательская способность участников группы B, и наоборот?"
   ]
  },
  {
   "cell_type": "code",
   "execution_count": 147,
   "id": "bd9c3b3e-5956-41a8-bae0-43693f6de1f2",
   "metadata": {},
   "outputs": [
    {
     "data": {
      "text/html": [
       "<div>\n",
       "<style scoped>\n",
       "    .dataframe tbody tr th:only-of-type {\n",
       "        vertical-align: middle;\n",
       "    }\n",
       "\n",
       "    .dataframe tbody tr th {\n",
       "        vertical-align: top;\n",
       "    }\n",
       "\n",
       "    .dataframe thead th {\n",
       "        text-align: right;\n",
       "    }\n",
       "</style>\n",
       "<table border=\"1\" class=\"dataframe\">\n",
       "  <thead>\n",
       "    <tr style=\"text-align: right;\">\n",
       "      <th>price</th>\n",
       "      <th>10000</th>\n",
       "      <th>60000</th>\n",
       "      <th>100000</th>\n",
       "      <th>150000</th>\n",
       "      <th>200000</th>\n",
       "    </tr>\n",
       "    <tr>\n",
       "      <th>group</th>\n",
       "      <th></th>\n",
       "      <th></th>\n",
       "      <th></th>\n",
       "      <th></th>\n",
       "      <th></th>\n",
       "    </tr>\n",
       "  </thead>\n",
       "  <tbody>\n",
       "    <tr>\n",
       "      <th>A</th>\n",
       "      <td>5182</td>\n",
       "      <td>5271</td>\n",
       "      <td>1832</td>\n",
       "      <td>3478</td>\n",
       "      <td>1724</td>\n",
       "    </tr>\n",
       "    <tr>\n",
       "      <th>B</th>\n",
       "      <td>5201</td>\n",
       "      <td>1730</td>\n",
       "      <td>5227</td>\n",
       "      <td>3438</td>\n",
       "      <td>1694</td>\n",
       "    </tr>\n",
       "  </tbody>\n",
       "</table>\n",
       "</div>"
      ],
      "text/plain": [
       "price  10000   60000   100000  150000  200000\n",
       "group                                        \n",
       "A        5182    5271    1832    3478    1724\n",
       "B        5201    1730    5227    3438    1694"
      ]
     },
     "metadata": {},
     "output_type": "display_data"
    }
   ],
   "source": [
    "pivot_tab_2 = pd.pivot_table(updated_data, \n",
    "    values='purchase', index='group', columns='price', aggfunc='count')\n",
    "pivot_tab_2.drop(0, axis=1, inplace=True)\n",
    "display(pivot_tab_2)"
   ]
  },
  {
   "cell_type": "code",
   "execution_count": 148,
   "id": "c16d3b5e",
   "metadata": {},
   "outputs": [
    {
     "data": {
      "text/plain": [
       "<Axes: xlabel='price', ylabel='group'>"
      ]
     },
     "execution_count": 148,
     "metadata": {},
     "output_type": "execute_result"
    },
    {
     "data": {
      "image/png": "[encoded data removed]",
      "text/plain": [
       "<Figure size 640x480 with 2 Axes>"
      ]
     },
     "metadata": {},
     "output_type": "display_data"
    }
   ],
   "source": [
    "sns.heatmap(pivot_tab_2, \n",
    "    annot = True, \n",
    "    fmt='1g', \n",
    "    square = True, \n",
    "    linewidths=0.5, \n",
    "    linecolor='white'\n",
    "            )"
   ]
  },
  {
   "cell_type": "markdown",
   "id": "0daa03ac",
   "metadata": {},
   "source": [
    "* Группа A имеет выше покупательскую способность по средним ценовым диапазонам (60,000 руб.) и схожую покупательскую способность по низким и самым высоким ценовым диапазонам (10,000 руб., 200,000 руб.).\n",
    "* Группа B имеет выше покупательскую способность по высоким ценовым диапазонам (100,000 руб.)"
   ]
  },
  {
   "cell_type": "markdown",
   "id": "8f021fb4-d0f6-4e43-b518-1a96c07a4531",
   "metadata": {
    "tags": []
   },
   "source": [
    "### **Задание 3. Сгруппируйте данные по дате и группе тестирования и постройте таблицу с ежедневными данными результатов проведения A/B-тестирования.**\n",
    "\n",
    "1. В каждой группе вычислите ежедневные показатели:\n",
    "\n",
    "* количество посещений страницы;\n",
    "* количество покупок;\n",
    "* сумму покупок. "
   ]
  },
  {
   "cell_type": "code",
   "execution_count": 149,
   "id": "d8188db8",
   "metadata": {},
   "outputs": [
    {
     "data": {
      "text/html": [
       "<div>\n",
       "<style scoped>\n",
       "    .dataframe tbody tr th:only-of-type {\n",
       "        vertical-align: middle;\n",
       "    }\n",
       "\n",
       "    .dataframe tbody tr th {\n",
       "        vertical-align: top;\n",
       "    }\n",
       "\n",
       "    .dataframe thead th {\n",
       "        text-align: right;\n",
       "    }\n",
       "</style>\n",
       "<table border=\"1\" class=\"dataframe\">\n",
       "  <thead>\n",
       "    <tr style=\"text-align: right;\">\n",
       "      <th></th>\n",
       "      <th>count_visits</th>\n",
       "      <th>count_purchases</th>\n",
       "      <th>sum_price</th>\n",
       "      <th>conversion</th>\n",
       "      <th>mean_bill</th>\n",
       "    </tr>\n",
       "    <tr>\n",
       "      <th>group</th>\n",
       "      <th></th>\n",
       "      <th></th>\n",
       "      <th></th>\n",
       "      <th></th>\n",
       "      <th></th>\n",
       "    </tr>\n",
       "  </thead>\n",
       "  <tbody>\n",
       "    <tr>\n",
       "      <th>A</th>\n",
       "      <td>145307</td>\n",
       "      <td>17487</td>\n",
       "      <td>1417780000</td>\n",
       "      <td>12.03</td>\n",
       "      <td>81076.0</td>\n",
       "    </tr>\n",
       "    <tr>\n",
       "      <th>B</th>\n",
       "      <td>145381</td>\n",
       "      <td>17290</td>\n",
       "      <td>1533010000</td>\n",
       "      <td>11.89</td>\n",
       "      <td>88665.0</td>\n",
       "    </tr>\n",
       "  </tbody>\n",
       "</table>\n",
       "</div>"
      ],
      "text/plain": [
       "       count_visits  count_purchases   sum_price  conversion  mean_bill\n",
       "group                                                                  \n",
       "A            145307            17487  1417780000       12.03    81076.0\n",
       "B            145381            17290  1533010000       11.89    88665.0"
      ]
     },
     "execution_count": 149,
     "metadata": {},
     "output_type": "execute_result"
    }
   ],
   "source": [
    "pivot_tab"
   ]
  },
  {
   "cell_type": "markdown",
   "id": "210a47ff",
   "metadata": {},
   "source": [
    "2. Добавьте в таблицу информацию о ежедневной конверсии (ежедневное количество покупок / ежедневное количество посещений) в группе и о ежедневном среднем чеке (ежедневная сумма покупок / ежедневное количество покупок)."
   ]
  },
  {
   "cell_type": "code",
   "execution_count": 150,
   "id": "4503b528-412e-433a-bc03-da7da52fa1a3",
   "metadata": {},
   "outputs": [
    {
     "data": {
      "text/html": [
       "<div>\n",
       "<style scoped>\n",
       "    .dataframe tbody tr th:only-of-type {\n",
       "        vertical-align: middle;\n",
       "    }\n",
       "\n",
       "    .dataframe tbody tr th {\n",
       "        vertical-align: top;\n",
       "    }\n",
       "\n",
       "    .dataframe thead th {\n",
       "        text-align: right;\n",
       "    }\n",
       "</style>\n",
       "<table border=\"1\" class=\"dataframe\">\n",
       "  <thead>\n",
       "    <tr style=\"text-align: right;\">\n",
       "      <th></th>\n",
       "      <th></th>\n",
       "      <th>count_visits</th>\n",
       "      <th>count_purchases</th>\n",
       "      <th>sum_price</th>\n",
       "      <th>conversion</th>\n",
       "      <th>mean_bill</th>\n",
       "    </tr>\n",
       "    <tr>\n",
       "      <th>date</th>\n",
       "      <th>group</th>\n",
       "      <th></th>\n",
       "      <th></th>\n",
       "      <th></th>\n",
       "      <th></th>\n",
       "      <th></th>\n",
       "    </tr>\n",
       "  </thead>\n",
       "  <tbody>\n",
       "    <tr>\n",
       "      <th rowspan=\"2\" valign=\"top\">2021-01-02</th>\n",
       "      <th>A</th>\n",
       "      <td>2854</td>\n",
       "      <td>359</td>\n",
       "      <td>29410000</td>\n",
       "      <td>12.58</td>\n",
       "      <td>81922.0</td>\n",
       "    </tr>\n",
       "    <tr>\n",
       "      <th>B</th>\n",
       "      <td>2861</td>\n",
       "      <td>345</td>\n",
       "      <td>29660000</td>\n",
       "      <td>12.06</td>\n",
       "      <td>85971.0</td>\n",
       "    </tr>\n",
       "    <tr>\n",
       "      <th rowspan=\"2\" valign=\"top\">2021-01-03</th>\n",
       "      <th>A</th>\n",
       "      <td>6596</td>\n",
       "      <td>748</td>\n",
       "      <td>62000000</td>\n",
       "      <td>11.34</td>\n",
       "      <td>82888.0</td>\n",
       "    </tr>\n",
       "    <tr>\n",
       "      <th>B</th>\n",
       "      <td>6619</td>\n",
       "      <td>754</td>\n",
       "      <td>65960000</td>\n",
       "      <td>11.39</td>\n",
       "      <td>87480.0</td>\n",
       "    </tr>\n",
       "    <tr>\n",
       "      <th rowspan=\"2\" valign=\"top\">2021-01-04</th>\n",
       "      <th>A</th>\n",
       "      <td>6566</td>\n",
       "      <td>799</td>\n",
       "      <td>64250000</td>\n",
       "      <td>12.17</td>\n",
       "      <td>80413.0</td>\n",
       "    </tr>\n",
       "    <tr>\n",
       "      <th>B</th>\n",
       "      <td>6536</td>\n",
       "      <td>764</td>\n",
       "      <td>68030000</td>\n",
       "      <td>11.69</td>\n",
       "      <td>89045.0</td>\n",
       "    </tr>\n",
       "    <tr>\n",
       "      <th rowspan=\"2\" valign=\"top\">2021-01-05</th>\n",
       "      <th>A</th>\n",
       "      <td>6433</td>\n",
       "      <td>790</td>\n",
       "      <td>64550000</td>\n",
       "      <td>12.28</td>\n",
       "      <td>81709.0</td>\n",
       "    </tr>\n",
       "    <tr>\n",
       "      <th>B</th>\n",
       "      <td>6511</td>\n",
       "      <td>749</td>\n",
       "      <td>63550000</td>\n",
       "      <td>11.50</td>\n",
       "      <td>84846.0</td>\n",
       "    </tr>\n",
       "    <tr>\n",
       "      <th rowspan=\"2\" valign=\"top\">2021-01-06</th>\n",
       "      <th>A</th>\n",
       "      <td>6606</td>\n",
       "      <td>764</td>\n",
       "      <td>63410000</td>\n",
       "      <td>11.57</td>\n",
       "      <td>82997.0</td>\n",
       "    </tr>\n",
       "    <tr>\n",
       "      <th>B</th>\n",
       "      <td>6751</td>\n",
       "      <td>838</td>\n",
       "      <td>75020000</td>\n",
       "      <td>12.41</td>\n",
       "      <td>89523.0</td>\n",
       "    </tr>\n",
       "    <tr>\n",
       "      <th rowspan=\"2\" valign=\"top\">2021-01-07</th>\n",
       "      <th>A</th>\n",
       "      <td>6579</td>\n",
       "      <td>795</td>\n",
       "      <td>67290000</td>\n",
       "      <td>12.08</td>\n",
       "      <td>84642.0</td>\n",
       "    </tr>\n",
       "    <tr>\n",
       "      <th>B</th>\n",
       "      <td>6616</td>\n",
       "      <td>767</td>\n",
       "      <td>67170000</td>\n",
       "      <td>11.59</td>\n",
       "      <td>87575.0</td>\n",
       "    </tr>\n",
       "    <tr>\n",
       "      <th rowspan=\"2\" valign=\"top\">2021-01-08</th>\n",
       "      <th>A</th>\n",
       "      <td>6687</td>\n",
       "      <td>798</td>\n",
       "      <td>65380000</td>\n",
       "      <td>11.93</td>\n",
       "      <td>81930.0</td>\n",
       "    </tr>\n",
       "    <tr>\n",
       "      <th>B</th>\n",
       "      <td>6714</td>\n",
       "      <td>812</td>\n",
       "      <td>71270000</td>\n",
       "      <td>12.09</td>\n",
       "      <td>87771.0</td>\n",
       "    </tr>\n",
       "    <tr>\n",
       "      <th rowspan=\"2\" valign=\"top\">2021-01-09</th>\n",
       "      <th>A</th>\n",
       "      <td>6633</td>\n",
       "      <td>794</td>\n",
       "      <td>65610000</td>\n",
       "      <td>11.97</td>\n",
       "      <td>82632.0</td>\n",
       "    </tr>\n",
       "    <tr>\n",
       "      <th>B</th>\n",
       "      <td>6628</td>\n",
       "      <td>784</td>\n",
       "      <td>71410000</td>\n",
       "      <td>11.83</td>\n",
       "      <td>91084.0</td>\n",
       "    </tr>\n",
       "    <tr>\n",
       "      <th rowspan=\"2\" valign=\"top\">2021-01-10</th>\n",
       "      <th>A</th>\n",
       "      <td>6659</td>\n",
       "      <td>759</td>\n",
       "      <td>58950000</td>\n",
       "      <td>11.40</td>\n",
       "      <td>77668.0</td>\n",
       "    </tr>\n",
       "    <tr>\n",
       "      <th>B</th>\n",
       "      <td>6701</td>\n",
       "      <td>846</td>\n",
       "      <td>78080000</td>\n",
       "      <td>12.62</td>\n",
       "      <td>92293.0</td>\n",
       "    </tr>\n",
       "    <tr>\n",
       "      <th rowspan=\"2\" valign=\"top\">2021-01-11</th>\n",
       "      <th>A</th>\n",
       "      <td>6699</td>\n",
       "      <td>797</td>\n",
       "      <td>58760000</td>\n",
       "      <td>11.90</td>\n",
       "      <td>73726.0</td>\n",
       "    </tr>\n",
       "    <tr>\n",
       "      <th>B</th>\n",
       "      <td>6679</td>\n",
       "      <td>770</td>\n",
       "      <td>66960000</td>\n",
       "      <td>11.53</td>\n",
       "      <td>86961.0</td>\n",
       "    </tr>\n",
       "    <tr>\n",
       "      <th rowspan=\"2\" valign=\"top\">2021-01-12</th>\n",
       "      <th>A</th>\n",
       "      <td>6540</td>\n",
       "      <td>795</td>\n",
       "      <td>68460000</td>\n",
       "      <td>12.16</td>\n",
       "      <td>86113.0</td>\n",
       "    </tr>\n",
       "    <tr>\n",
       "      <th>B</th>\n",
       "      <td>6635</td>\n",
       "      <td>807</td>\n",
       "      <td>70560000</td>\n",
       "      <td>12.16</td>\n",
       "      <td>87435.0</td>\n",
       "    </tr>\n",
       "    <tr>\n",
       "      <th rowspan=\"2\" valign=\"top\">2021-01-13</th>\n",
       "      <th>A</th>\n",
       "      <td>6564</td>\n",
       "      <td>764</td>\n",
       "      <td>63590000</td>\n",
       "      <td>11.64</td>\n",
       "      <td>83233.0</td>\n",
       "    </tr>\n",
       "    <tr>\n",
       "      <th>B</th>\n",
       "      <td>6495</td>\n",
       "      <td>720</td>\n",
       "      <td>65910000</td>\n",
       "      <td>11.09</td>\n",
       "      <td>91542.0</td>\n",
       "    </tr>\n",
       "    <tr>\n",
       "      <th rowspan=\"2\" valign=\"top\">2021-01-14</th>\n",
       "      <th>A</th>\n",
       "      <td>6543</td>\n",
       "      <td>825</td>\n",
       "      <td>65890000</td>\n",
       "      <td>12.61</td>\n",
       "      <td>79867.0</td>\n",
       "    </tr>\n",
       "    <tr>\n",
       "      <th>B</th>\n",
       "      <td>6608</td>\n",
       "      <td>792</td>\n",
       "      <td>68990000</td>\n",
       "      <td>11.99</td>\n",
       "      <td>87109.0</td>\n",
       "    </tr>\n",
       "    <tr>\n",
       "      <th rowspan=\"2\" valign=\"top\">2021-01-15</th>\n",
       "      <th>A</th>\n",
       "      <td>6701</td>\n",
       "      <td>806</td>\n",
       "      <td>67570000</td>\n",
       "      <td>12.03</td>\n",
       "      <td>83834.0</td>\n",
       "    </tr>\n",
       "    <tr>\n",
       "      <th>B</th>\n",
       "      <td>6563</td>\n",
       "      <td>747</td>\n",
       "      <td>69160000</td>\n",
       "      <td>11.38</td>\n",
       "      <td>92584.0</td>\n",
       "    </tr>\n",
       "    <tr>\n",
       "      <th rowspan=\"2\" valign=\"top\">2021-01-16</th>\n",
       "      <th>A</th>\n",
       "      <td>6601</td>\n",
       "      <td>808</td>\n",
       "      <td>66210000</td>\n",
       "      <td>12.24</td>\n",
       "      <td>81943.0</td>\n",
       "    </tr>\n",
       "    <tr>\n",
       "      <th>B</th>\n",
       "      <td>6544</td>\n",
       "      <td>786</td>\n",
       "      <td>70560000</td>\n",
       "      <td>12.01</td>\n",
       "      <td>89771.0</td>\n",
       "    </tr>\n",
       "    <tr>\n",
       "      <th rowspan=\"2\" valign=\"top\">2021-01-17</th>\n",
       "      <th>A</th>\n",
       "      <td>6619</td>\n",
       "      <td>809</td>\n",
       "      <td>63020000</td>\n",
       "      <td>12.22</td>\n",
       "      <td>77899.0</td>\n",
       "    </tr>\n",
       "    <tr>\n",
       "      <th>B</th>\n",
       "      <td>6546</td>\n",
       "      <td>831</td>\n",
       "      <td>75300000</td>\n",
       "      <td>12.69</td>\n",
       "      <td>90614.0</td>\n",
       "    </tr>\n",
       "    <tr>\n",
       "      <th rowspan=\"2\" valign=\"top\">2021-01-18</th>\n",
       "      <th>A</th>\n",
       "      <td>6511</td>\n",
       "      <td>812</td>\n",
       "      <td>62850000</td>\n",
       "      <td>12.47</td>\n",
       "      <td>77401.0</td>\n",
       "    </tr>\n",
       "    <tr>\n",
       "      <th>B</th>\n",
       "      <td>6603</td>\n",
       "      <td>822</td>\n",
       "      <td>72240000</td>\n",
       "      <td>12.45</td>\n",
       "      <td>87883.0</td>\n",
       "    </tr>\n",
       "    <tr>\n",
       "      <th rowspan=\"2\" valign=\"top\">2021-01-19</th>\n",
       "      <th>A</th>\n",
       "      <td>6582</td>\n",
       "      <td>790</td>\n",
       "      <td>63680000</td>\n",
       "      <td>12.00</td>\n",
       "      <td>80608.0</td>\n",
       "    </tr>\n",
       "    <tr>\n",
       "      <th>B</th>\n",
       "      <td>6562</td>\n",
       "      <td>772</td>\n",
       "      <td>67820000</td>\n",
       "      <td>11.76</td>\n",
       "      <td>87850.0</td>\n",
       "    </tr>\n",
       "    <tr>\n",
       "      <th rowspan=\"2\" valign=\"top\">2021-01-20</th>\n",
       "      <th>A</th>\n",
       "      <td>6533</td>\n",
       "      <td>749</td>\n",
       "      <td>58710000</td>\n",
       "      <td>11.46</td>\n",
       "      <td>78385.0</td>\n",
       "    </tr>\n",
       "    <tr>\n",
       "      <th>B</th>\n",
       "      <td>6685</td>\n",
       "      <td>790</td>\n",
       "      <td>69250000</td>\n",
       "      <td>11.82</td>\n",
       "      <td>87658.0</td>\n",
       "    </tr>\n",
       "    <tr>\n",
       "      <th rowspan=\"2\" valign=\"top\">2021-01-21</th>\n",
       "      <th>A</th>\n",
       "      <td>6750</td>\n",
       "      <td>851</td>\n",
       "      <td>70300000</td>\n",
       "      <td>12.61</td>\n",
       "      <td>82609.0</td>\n",
       "    </tr>\n",
       "    <tr>\n",
       "      <th>B</th>\n",
       "      <td>6555</td>\n",
       "      <td>760</td>\n",
       "      <td>69870000</td>\n",
       "      <td>11.59</td>\n",
       "      <td>91934.0</td>\n",
       "    </tr>\n",
       "    <tr>\n",
       "      <th rowspan=\"2\" valign=\"top\">2021-01-22</th>\n",
       "      <th>A</th>\n",
       "      <td>6587</td>\n",
       "      <td>788</td>\n",
       "      <td>63690000</td>\n",
       "      <td>11.96</td>\n",
       "      <td>80825.0</td>\n",
       "    </tr>\n",
       "    <tr>\n",
       "      <th>B</th>\n",
       "      <td>6659</td>\n",
       "      <td>787</td>\n",
       "      <td>68660000</td>\n",
       "      <td>11.82</td>\n",
       "      <td>87243.0</td>\n",
       "    </tr>\n",
       "    <tr>\n",
       "      <th rowspan=\"2\" valign=\"top\">2021-01-23</th>\n",
       "      <th>A</th>\n",
       "      <td>6698</td>\n",
       "      <td>843</td>\n",
       "      <td>70950000</td>\n",
       "      <td>12.59</td>\n",
       "      <td>84164.0</td>\n",
       "    </tr>\n",
       "    <tr>\n",
       "      <th>B</th>\n",
       "      <td>6633</td>\n",
       "      <td>805</td>\n",
       "      <td>68930000</td>\n",
       "      <td>12.14</td>\n",
       "      <td>85627.0</td>\n",
       "    </tr>\n",
       "    <tr>\n",
       "      <th rowspan=\"2\" valign=\"top\">2021-01-24</th>\n",
       "      <th>A</th>\n",
       "      <td>3766</td>\n",
       "      <td>444</td>\n",
       "      <td>33250000</td>\n",
       "      <td>11.79</td>\n",
       "      <td>74887.0</td>\n",
       "    </tr>\n",
       "    <tr>\n",
       "      <th>B</th>\n",
       "      <td>3677</td>\n",
       "      <td>442</td>\n",
       "      <td>38650000</td>\n",
       "      <td>12.02</td>\n",
       "      <td>87443.0</td>\n",
       "    </tr>\n",
       "  </tbody>\n",
       "</table>\n",
       "</div>"
      ],
      "text/plain": [
       "                  count_visits  count_purchases  sum_price  conversion  \\\n",
       "date       group                                                         \n",
       "2021-01-02 A              2854              359   29410000       12.58   \n",
       "           B              2861              345   29660000       12.06   \n",
       "2021-01-03 A              6596              748   62000000       11.34   \n",
       "           B              6619              754   65960000       11.39   \n",
       "2021-01-04 A              6566              799   64250000       12.17   \n",
       "           B              6536              764   68030000       11.69   \n",
       "2021-01-05 A              6433              790   64550000       12.28   \n",
       "           B              6511              749   63550000       11.50   \n",
       "2021-01-06 A              6606              764   63410000       11.57   \n",
       "           B              6751              838   75020000       12.41   \n",
       "2021-01-07 A              6579              795   67290000       12.08   \n",
       "           B              6616              767   67170000       11.59   \n",
       "2021-01-08 A              6687              798   65380000       11.93   \n",
       "           B              6714              812   71270000       12.09   \n",
       "2021-01-09 A              6633              794   65610000       11.97   \n",
       "           B              6628              784   71410000       11.83   \n",
       "2021-01-10 A              6659              759   58950000       11.40   \n",
       "           B              6701              846   78080000       12.62   \n",
       "2021-01-11 A              6699              797   58760000       11.90   \n",
       "           B              6679              770   66960000       11.53   \n",
       "2021-01-12 A              6540              795   68460000       12.16   \n",
       "           B              6635              807   70560000       12.16   \n",
       "2021-01-13 A              6564              764   63590000       11.64   \n",
       "           B              6495              720   65910000       11.09   \n",
       "2021-01-14 A              6543              825   65890000       12.61   \n",
       "           B              6608              792   68990000       11.99   \n",
       "2021-01-15 A              6701              806   67570000       12.03   \n",
       "           B              6563              747   69160000       11.38   \n",
       "2021-01-16 A              6601              808   66210000       12.24   \n",
       "           B              6544              786   70560000       12.01   \n",
       "2021-01-17 A              6619              809   63020000       12.22   \n",
       "           B              6546              831   75300000       12.69   \n",
       "2021-01-18 A              6511              812   62850000       12.47   \n",
       "           B              6603              822   72240000       12.45   \n",
       "2021-01-19 A              6582              790   63680000       12.00   \n",
       "           B              6562              772   67820000       11.76   \n",
       "2021-01-20 A              6533              749   58710000       11.46   \n",
       "           B              6685              790   69250000       11.82   \n",
       "2021-01-21 A              6750              851   70300000       12.61   \n",
       "           B              6555              760   69870000       11.59   \n",
       "2021-01-22 A              6587              788   63690000       11.96   \n",
       "           B              6659              787   68660000       11.82   \n",
       "2021-01-23 A              6698              843   70950000       12.59   \n",
       "           B              6633              805   68930000       12.14   \n",
       "2021-01-24 A              3766              444   33250000       11.79   \n",
       "           B              3677              442   38650000       12.02   \n",
       "\n",
       "                  mean_bill  \n",
       "date       group             \n",
       "2021-01-02 A        81922.0  \n",
       "           B        85971.0  \n",
       "2021-01-03 A        82888.0  \n",
       "           B        87480.0  \n",
       "2021-01-04 A        80413.0  \n",
       "           B        89045.0  \n",
       "2021-01-05 A        81709.0  \n",
       "           B        84846.0  \n",
       "2021-01-06 A        82997.0  \n",
       "           B        89523.0  \n",
       "2021-01-07 A        84642.0  \n",
       "           B        87575.0  \n",
       "2021-01-08 A        81930.0  \n",
       "           B        87771.0  \n",
       "2021-01-09 A        82632.0  \n",
       "           B        91084.0  \n",
       "2021-01-10 A        77668.0  \n",
       "           B        92293.0  \n",
       "2021-01-11 A        73726.0  \n",
       "           B        86961.0  \n",
       "2021-01-12 A        86113.0  \n",
       "           B        87435.0  \n",
       "2021-01-13 A        83233.0  \n",
       "           B        91542.0  \n",
       "2021-01-14 A        79867.0  \n",
       "           B        87109.0  \n",
       "2021-01-15 A        83834.0  \n",
       "           B        92584.0  \n",
       "2021-01-16 A        81943.0  \n",
       "           B        89771.0  \n",
       "2021-01-17 A        77899.0  \n",
       "           B        90614.0  \n",
       "2021-01-18 A        77401.0  \n",
       "           B        87883.0  \n",
       "2021-01-19 A        80608.0  \n",
       "           B        87850.0  \n",
       "2021-01-20 A        78385.0  \n",
       "           B        87658.0  \n",
       "2021-01-21 A        82609.0  \n",
       "           B        91934.0  \n",
       "2021-01-22 A        80825.0  \n",
       "           B        87243.0  \n",
       "2021-01-23 A        84164.0  \n",
       "           B        85627.0  \n",
       "2021-01-24 A        74887.0  \n",
       "           B        87443.0  "
      ]
     },
     "execution_count": 150,
     "metadata": {},
     "output_type": "execute_result"
    }
   ],
   "source": [
    "daily = updated_data.groupby(['date', 'group']) \\\n",
    "    .agg({'user_id': 'count', 'purchase': 'sum', 'price': 'sum'}) \\\n",
    "    .rename(columns={'user_id': 'count_visits', 'purchase': 'count_purchases', \n",
    "             'price': 'sum_price'})\n",
    "daily['conversion'] \\\n",
    "    = (daily['count_purchases'] / daily['count_visits'] * 100).round(2)\n",
    "daily['mean_bill'] \\\n",
    "    = (daily['sum_price'] / daily['count_purchases']).round()\n",
    "\n",
    "daily"
   ]
  },
  {
   "cell_type": "markdown",
   "id": "bc8e241b-1ef1-4f67-ab90-77251889b7f2",
   "metadata": {},
   "source": [
    "3. Добавьте в таблицу с ежедневными показателями кумулятивные признаки:\n",
    "* кумулятивное количество посещений страницы\n",
    "* кумулятивное количество покупок\n",
    "* кумулятивную сумму покупок"
   ]
  },
  {
   "cell_type": "code",
   "execution_count": 151,
   "id": "afe59f9a-8d39-45c1-a14f-9f62091d81a1",
   "metadata": {},
   "outputs": [],
   "source": [
    "daily['cumul_visits'] = daily.groupby('group')['count_visits'].cumsum()\n",
    "daily['cumul_purchases'] = daily.groupby('group')['count_purchases'].cumsum()\n",
    "daily['cumul_price'] = daily.groupby('group')['sum_price'].cumsum()"
   ]
  },
  {
   "cell_type": "markdown",
   "id": "666cd0df",
   "metadata": {},
   "source": [
    "4. Вычислите кумулятивную конверсию и кумулятивный средний чек на основе полученных кумулятивных показателей. "
   ]
  },
  {
   "cell_type": "code",
   "execution_count": 152,
   "id": "bc234bd7",
   "metadata": {},
   "outputs": [],
   "source": [
    "daily['cumul_conversion'] \\\n",
    "    = (daily['cumul_purchases'] / daily['cumul_visits'] * 100).round(2)\n",
    "daily['cumul_mean_bill'] \\\n",
    "    = (daily['cumul_price'] / daily['cumul_purchases']).round()"
   ]
  },
  {
   "cell_type": "markdown",
   "id": "c252b8ba-371b-4795-8fc3-a62317e9ba39",
   "metadata": {},
   "source": [
    "5. Постройте кумулятивные графики конверсии и среднего чека в каждой группе по дням.\n",
    "\n",
    "Сделайте выводы. Можно ли назвать A/B-тест завершённым? Стабилизировались ли значения метрик во времени? Как соотносятся кумулятивные показатели в каждой группе?"
   ]
  },
  {
   "cell_type": "code",
   "execution_count": 153,
   "id": "27e23d20-7ed6-4a26-973d-6d0320b81adb",
   "metadata": {},
   "outputs": [
    {
     "data": {
      "image/png": "[encoded data removed]",
      "text/plain": [
       "<Figure size 1300x400 with 2 Axes>"
      ]
     },
     "metadata": {},
     "output_type": "display_data"
    }
   ],
   "source": [
    "fig, ax = plt.subplots(1, 2, figsize=(13, 4))\n",
    "sns.lineplot(data=daily.reset_index(), \n",
    "             x='date', y='cumul_conversion', hue='group', ax=ax[0])\n",
    "sns.lineplot(data=daily.reset_index(), \n",
    "             x='date', y='cumul_mean_bill', hue='group', ax=ax[1])\n",
    "fig.subplots_adjust(top=.85)\n",
    "fig.suptitle('Cumulative metrics', fontsize=14)\n",
    "plt.tight_layout()\n",
    "ax[0].xaxis.set_tick_params(rotation=45)\n",
    "ax[1].xaxis.set_tick_params(rotation=45)\n",
    "ax[0].set(xlabel='Date', ylabel='Cumulative conversion')\n",
    "ax[1].set(xlabel='Date', ylabel='Cumulative mean bill');"
   ]
  },
  {
   "cell_type": "markdown",
   "id": "f645f8e5-ad16-4b3b-8228-fbdeeb286833",
   "metadata": {},
   "source": [
    "* Кумулятивные метрики стабилизировались, A/B-тестирование можно считать завершенным. \n",
    "* Кумулятивная конверсия в тестовой группе (B) несколько меньше конверсии в контрольной группе (A). \n",
    "* Кумулятивный средний чек тестовой группы выше с первого дня и на всем протяжении тестирования"
   ]
  },
  {
   "cell_type": "markdown",
   "id": "2ecaa382-56e2-47f4-b086-24b4742570a3",
   "metadata": {
    "tags": []
   },
   "source": [
    "### **Задание 4. Проведите статистический анализ результатов A/B-тестирования**\n",
    "\n",
    "Сформулируйте статистические гипотезы, соответствующие поставленным бизнес-вопросам, и выберите статистический тест для их проверки.\n",
    "\n",
    "Не забудьте проверить данные на нормальность там, где это необходимо."
   ]
  },
  {
   "cell_type": "markdown",
   "id": "3078fad0",
   "metadata": {},
   "source": [
    "Есть ли статистически значимая разница в конверсии между группами A и B? \n",
    "\n",
    "* Нулевая гипотеза (H0): Конверсия в группе A равна конверсии в группе B. \n",
    "* Альтернативная гипотеза (H1): Конверсия в группе A не равна конверсии в группе B.\n",
    "\n",
    "Есть ли статистически значимая разница в среднем чеке между группами A и B?\n",
    "\n",
    "* Нулевая гипотеза (H0): Средний чек в группе A равен среднему чеку в группе B.\n",
    "* Альтернативная гипотеза (H1): Средний чек в группе A не равен среднему чеку в группе B."
   ]
  },
  {
   "cell_type": "markdown",
   "id": "2e2cb9e6",
   "metadata": {},
   "source": [
    "Тест Шапиро-Уилка: Подходит для проверки нормальности распределения данных в выборке. Можно использовать scipy.stats.shapiro()."
   ]
  },
  {
   "cell_type": "markdown",
   "id": "beaac076",
   "metadata": {},
   "source": [
    "Если данные нормальны, используем t-тест для сравнения средних значений:\n",
    "* Независимый t-тест (Student's t-test): Для сравнения двух независимых выборок: scipy.stats.ttest_ind().\n",
    "\n",
    "Если данные не нормальны, используем непараметрический тест:\n",
    "* Тест Манна-Уитни (U-тест): Для сравнения двух независимых выборок, когда данные не нормальны: scipy.stats.mannwhitneyu().\n",
    "\n",
    "Z-тест для пропорций (Z-критерий). Самый популярный критерий для определения статистической значимости изменения конверсии."
   ]
  },
  {
   "cell_type": "code",
   "execution_count": 154,
   "id": "df5db23e",
   "metadata": {},
   "outputs": [
    {
     "name": "stdout",
     "output_type": "stream",
     "text": [
      "Группа A, p-value = 0.253\n",
      "Группа B, p-value = 0.094\n"
     ]
    }
   ],
   "source": [
    "daily = daily.reset_index() \n",
    "\n",
    "mean_bill_A = daily[daily['group'] == 'A']['mean_bill']\n",
    "mean_bill_B = daily[daily['group'] == 'B']['mean_bill']\n",
    "\n",
    "_, p = shapiro(mean_bill_A)\n",
    "print(f'Группа A, p-value = {p:.3f}')\n",
    "\n",
    "_, p = shapiro(mean_bill_B)\n",
    "print(f'Группа B, p-value = {p:.3f}')"
   ]
  },
  {
   "cell_type": "markdown",
   "id": "928c4efd",
   "metadata": {},
   "source": [
    "В обеих группах p-value превышает установленный уровень значимости (0,05), следовательно нулевая гипотеза не отвергается, распределения можно считать нормальными."
   ]
  },
  {
   "cell_type": "markdown",
   "id": "b0d3e867",
   "metadata": {},
   "source": [
    "2. С помощью аппарата статистических тестов определите:\n",
    "\n",
    "* Есть ли статистическая разница между конверсиями в группах А и B?\n",
    "* Есть ли статистическая разница между ежедневными средними чеками в группах А и B?"
   ]
  },
  {
   "cell_type": "code",
   "execution_count": 155,
   "id": "8da088f8",
   "metadata": {},
   "outputs": [
    {
     "data": {
      "text/html": [
       "<div>\n",
       "<style scoped>\n",
       "    .dataframe tbody tr th:only-of-type {\n",
       "        vertical-align: middle;\n",
       "    }\n",
       "\n",
       "    .dataframe tbody tr th {\n",
       "        vertical-align: top;\n",
       "    }\n",
       "\n",
       "    .dataframe thead th {\n",
       "        text-align: right;\n",
       "    }\n",
       "</style>\n",
       "<table border=\"1\" class=\"dataframe\">\n",
       "  <thead>\n",
       "    <tr style=\"text-align: right;\">\n",
       "      <th></th>\n",
       "      <th>group</th>\n",
       "      <th>count</th>\n",
       "      <th>sum</th>\n",
       "    </tr>\n",
       "  </thead>\n",
       "  <tbody>\n",
       "    <tr>\n",
       "      <th>0</th>\n",
       "      <td>A</td>\n",
       "      <td>145307</td>\n",
       "      <td>17487</td>\n",
       "    </tr>\n",
       "    <tr>\n",
       "      <th>1</th>\n",
       "      <td>B</td>\n",
       "      <td>145381</td>\n",
       "      <td>17290</td>\n",
       "    </tr>\n",
       "  </tbody>\n",
       "</table>\n",
       "</div>"
      ],
      "text/plain": [
       "  group   count    sum\n",
       "0     A  145307  17487\n",
       "1     B  145381  17290"
      ]
     },
     "metadata": {},
     "output_type": "display_data"
    }
   ],
   "source": [
    "converted_piv = updated_data.groupby('group')['purchase'].agg(\n",
    "    ['count', 'sum']).reset_index()\n",
    "display(converted_piv)"
   ]
  },
  {
   "cell_type": "code",
   "execution_count": 156,
   "id": "813f369d",
   "metadata": {},
   "outputs": [
    {
     "name": "stdout",
     "output_type": "stream",
     "text": [
      "p-value:  0.239\n",
      "У нас нет оснований отвергнуть нулевую гипотезу\n"
     ]
    }
   ],
   "source": [
    "alpha = 0.05 # уровень значимости\n",
    "# вычисляем значение p-value для z-теста для пропорций\n",
    "_, p_value = proportions_ztest(\n",
    "    count=converted_piv['sum'], #число «успехов»\n",
    "    nobs=converted_piv['count'], #общее число наблюдений\n",
    "    alternative='two-sided',\n",
    ")\n",
    "# выводим результат на экран\n",
    "print('p-value: ', round(p_value, 3))\n",
    "# сравниваем полученное p-value с уровнем значимости\n",
    "if (p_value <= alpha):\n",
    "    print(\"Отвергаем нулевую гипотезу в пользу альтернативной\")\n",
    "else:\n",
    "    print(\"У нас нет оснований отвергнуть нулевую гипотезу\")"
   ]
  },
  {
   "cell_type": "code",
   "execution_count": 157,
   "id": "0322b695",
   "metadata": {},
   "outputs": [
    {
     "name": "stdout",
     "output_type": "stream",
     "text": [
      "p-value: 0.0\n",
      "Отвергаем нулевую гипотезу в пользу альтернативной\n"
     ]
    }
   ],
   "source": [
    "alpha = 0.05 #уровень значимости\n",
    "results = ttest_ind(mean_bill_A, mean_bill_B)\n",
    "print('p-value:', round(results.pvalue, 2))\n",
    "\n",
    "# сравниваем полученное p-value с уровнем значимости\n",
    "if results.pvalue <= alpha:\n",
    "    print(\"Отвергаем нулевую гипотезу в пользу альтернативной\")\n",
    "else:\n",
    "    print(\"У нас нет оснований отвергнуть нулевую гипотезу\")"
   ]
  },
  {
   "cell_type": "markdown",
   "id": "b2bcbbc3",
   "metadata": {},
   "source": [
    "3. Подкрепите результаты статистических тестов, построив 95 % доверительные интервалы для:\n",
    "\n",
    "* конверсий в каждой из групп;\n",
    "* разницы конверсий в группах;\n",
    "* ежедневного среднего чека в каждой из групп."
   ]
  },
  {
   "cell_type": "code",
   "execution_count": 158,
   "id": "869c43e3",
   "metadata": {},
   "outputs": [],
   "source": [
    "# фильтруем данные группы А\n",
    "a_data = updated_data[updated_data['group'] == 'A']\n",
    "# фильтруем данные группы B\n",
    "b_data = updated_data[updated_data['group'] == 'B']"
   ]
  },
  {
   "cell_type": "code",
   "execution_count": 159,
   "id": "92eb5f77",
   "metadata": {},
   "outputs": [],
   "source": [
    "def proportion_conf_interval(x_p, n, gamma=0.95):  \n",
    "    alpha = 1 - gamma # уровень значимости\n",
    "    z_crit = -norm.ppf(alpha/2) # z-критическое\n",
    "    eps = z_crit * (x_p * (1 - x_p) / n) ** 0.5 # погрешность\n",
    "    lower_bound = x_p - eps # левая (нижняя) граница\n",
    "    upper_bound = x_p + eps # правая (верхняя) граница\n",
    "    # возвращаем кортеж из границ интервала\n",
    "    return lower_bound, upper_bound"
   ]
  },
  {
   "cell_type": "code",
   "execution_count": 160,
   "id": "97bb349b",
   "metadata": {},
   "outputs": [
    {
     "name": "stdout",
     "output_type": "stream",
     "text": [
      "Доверительный интервал для конверсии в группе А: (11.87, 12.2)\n",
      "Доверительный интервал для конверсии в группе B: (11.73, 12.06)\n"
     ]
    }
   ],
   "source": [
    "# строим доверительный интервал для конверсии в группе А\n",
    "lower_bound_a, upper_bound_a  = proportion_conf_interval(\n",
    "    x_p=a_data['purchase'].mean(), # выборочная пропорция\n",
    "    n=a_data['user_id'].count() # размер выборки\n",
    ")\n",
    "\n",
    "# строим доверительный интервал для конверсии в группе B\n",
    "lower_bound_b, upper_bound_b  = proportion_conf_interval(\n",
    "    x_p=b_data['purchase'].mean(), # выборочная пропорция\n",
    "    n=b_data['user_id'].count() # размер выборки\n",
    ")\n",
    "\n",
    "# выводим результат\n",
    "print('Доверительный интервал для конверсии в группе А: {}'.format((round(lower_bound_a * 100, 2), round(upper_bound_a * 100, 2))))\n",
    "print('Доверительный интервал для конверсии в группе B: {}'.format((round(lower_bound_b * 100, 2), round(upper_bound_b * 100, 2))))"
   ]
  },
  {
   "cell_type": "code",
   "execution_count": 161,
   "id": "db0701b6",
   "metadata": {},
   "outputs": [],
   "source": [
    "def diff_proportion_conf_interval(x_p, n, gamma=0.95):\n",
    "    alpha = 1 - gamma # уровень значимости\n",
    "    diff = x_p[1] - x_p[0] # выборочная разница конверсий групп B и A\n",
    "    z_crit = -norm.ppf(alpha/2) #z-критическое\n",
    "    eps = z_crit * (x_p[0] * (1 - x_p[0])/n[0] + x_p[1] * (1 - x_p[1])/n[1]) ** 0.5 # погрешность\n",
    "    lower_bound = diff - eps # левая (нижняя) граница\n",
    "    upper_bound = diff + eps # правая (верхняя) граница\n",
    "    # возвращаем кортеж из  границ интервала\n",
    "    return lower_bound, upper_bound"
   ]
  },
  {
   "cell_type": "code",
   "execution_count": 162,
   "id": "53b739b3",
   "metadata": {},
   "outputs": [
    {
     "name": "stdout",
     "output_type": "stream",
     "text": [
      "Доверительный интервал для разности конверсий: (-0.38, 0.09)\n"
     ]
    }
   ],
   "source": [
    "# размеры выборок групп А и B\n",
    "n = [a_data['user_id'].count(), b_data['user_id'].count()]\n",
    "# выборочная пропорция групп A и B\n",
    "x_p = [a_data['purchase'].mean(), b_data['purchase'].mean()]\n",
    "\n",
    "# строим доверительный интервал для разности пропорций\n",
    "lower_bound, upper_bound = diff_proportion_conf_interval(x_p=x_p, n=n)\n",
    "\n",
    "# выводим результат\n",
    "print('Доверительный интервал для разности конверсий: {}'.format((round(lower_bound*100, 2), round(upper_bound*100, 2))))"
   ]
  },
  {
   "cell_type": "code",
   "execution_count": 163,
   "id": "8f54a7d9",
   "metadata": {},
   "outputs": [
    {
     "name": "stdout",
     "output_type": "stream",
     "text": [
      "Выборка A, доверительный интервал (95%): 79630 82308\n",
      "Выборка B, доверительный интервал (95%): 87626 89526\n"
     ]
    }
   ],
   "source": [
    "def t_mean_conf_interval(x_mean, x_std, n, gamma=0.95):  \n",
    "    alpha = 1 - gamma # уровень значимости\n",
    "    t_crit = -t.ppf(alpha/2, n-1) # t-критическое\n",
    "    eps = t_crit * x_std/(n ** 0.5) # погрешность\n",
    "    lower_bound = x_mean - eps # левая (нижняя) граница\n",
    "    upper_bound = x_mean + eps # правая (верхняя) граница\n",
    "    # возвращаем кортеж из границ интервала\n",
    "    return lower_bound, upper_bound\n",
    "\n",
    "\n",
    "n = len(mean_bill_A)         # размер выборки A      \n",
    "x_mean = mean_bill_A.mean()  # средний чек, усредненный по выборке A\n",
    "x_std = mean_bill_A.std()       # выборочная дисперсия\n",
    "conf_interval = t_mean_conf_interval(x_mean, x_std, n)\n",
    "print('Выборка A, доверительный интервал (95%):', \n",
    "      '%.0f'%conf_interval[0], '%.0f'%conf_interval[1])\n",
    "\n",
    "n = len(mean_bill_B)         # размер выборки B     \n",
    "x_mean = mean_bill_B.mean()  # средний чек, усредненный по выборке B\n",
    "x_std = mean_bill_B.std()       # выборочная дисперсия\n",
    "conf_interval = t_mean_conf_interval(x_mean, x_std, n)\n",
    "print('Выборка B, доверительный интервал (95%):', \n",
    "      '%.0f'%conf_interval[0], '%.0f'%conf_interval[1])"
   ]
  },
  {
   "cell_type": "markdown",
   "id": "d1220df4",
   "metadata": {},
   "source": [
    "* Так как интервалы для конверсий в группах A и B частично перекрываются, это указывает на то, что нет статистически значимой разницы в конверсиях между группами A и B на уровне значимости 0.05 (то есть, на уровне доверия 95%).\n",
    "* Этот интервал включает 0, что также подтверждает отсутствие статистически значимой разницы в конверсиях между группами A и B. То есть, мы не можем утверждать, что одна группа лучше другой с точки зрения конверсии.\n",
    "* Перекрытие между интервалами ежедневного среднего чека в каждой из групп отсутствует, что указывает на значимую разницу в среднем чеке между группами A и B. Это значит, что группа B, скорее всего, имеет более высокий средний чек, чем группа A."
   ]
  },
  {
   "cell_type": "markdown",
   "id": "73c54883-b919-4889-bbf2-e1bdeb0b7055",
   "metadata": {},
   "source": [
    "### **Задание 5.Сделайте общий вывод по результатам A/B-теста.**\n",
    "\n",
    "Какой варианта дизайна посадочной страницы более эффективен по метрикам конверсии и ежедневного среднего чека и почему?"
   ]
  },
  {
   "cell_type": "markdown",
   "id": "857c750d",
   "metadata": {},
   "source": [
    "* Доверительные интервалы для конверсий в группах A и B частично перекрываются, и доверительный интервал для разности конверсий включает 0. Это говорит о том, что нет статистически значимой разницы в конверсии между двумя вариантами дизайна. Таким образом, по метрике конверсии нельзя сказать, что один вариант дизайна более эффективен, чем другой.\n",
    "* Доверительные интервалы для среднего чека не перекрываются, что указывает на статистически значимую разницу между группами. Группа B имеет более высокий средний чек, чем группа A. Это говорит о том, что пользователи, взаимодействующие с посадочной страницей B, тратят в среднем больше денег, чем пользователи на странице A.\n",
    "* Вариант дизайна B более эффективен по метрике среднего чека, что может свидетельствовать о его предпочтительности, особенно если целью является максимизация дохода. Если же приоритетом является конверсия, то существенной разницы между вариантами нет."
   ]
  }
 ],
 "metadata": {
  "kernelspec": {
   "display_name": "Python 3 (ipykernel)",
   "language": "python",
   "name": "python3"
  },
  "language_info": {
   "codemirror_mode": {
    "name": "ipython",
    "version": 3
   },
   "file_extension": ".py",
   "mimetype": "text/x-python",
   "name": "python",
   "nbconvert_exporter": "python",
   "pygments_lexer": "ipython3",
   "version": "3.8.12"
  }
 },
 "nbformat": 4,
 "nbformat_minor": 5
}
